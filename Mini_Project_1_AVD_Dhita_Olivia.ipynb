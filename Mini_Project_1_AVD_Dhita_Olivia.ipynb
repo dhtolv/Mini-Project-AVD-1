{
  "nbformat": 4,
  "nbformat_minor": 0,
  "metadata": {
    "colab": {
      "provenance": [],
      "authorship_tag": "ABX9TyO2NyL/ty25psNjM22YfxEq",
      "include_colab_link": true
    },
    "kernelspec": {
      "name": "python3",
      "display_name": "Python 3"
    },
    "language_info": {
      "name": "python"
    }
  },
  "cells": [
    {
      "cell_type": "markdown",
      "metadata": {
        "id": "view-in-github",
        "colab_type": "text"
      },
      "source": [
        "<a href=\"https://colab.research.google.com/github/dhtolv/Mini-Project-AVD-1/blob/main/Mini_Project_1_AVD_Dhita_Olivia.ipynb\" target=\"_parent\"><img src=\"https://colab.research.google.com/assets/colab-badge.svg\" alt=\"Open In Colab\"/></a>"
      ]
    },
    {
      "cell_type": "markdown",
      "source": [
        "**Studi Kasus**"
      ],
      "metadata": {
        "id": "0l1znpvVPGFM"
      }
    },
    {
      "cell_type": "markdown",
      "source": [
        "Studi kasus ini membahas tentang memahami preferensi konsumen dan meningkatkan kualitas produk cokelat berdasarkan histori rating cokelat batangan. Data ini juga berisi tentang informasi tentang berbagai karakteristik cokelat, seperti presentasi kakao, asal biji kakao, dan rating yang diberikan pelanggan."
      ],
      "metadata": {
        "id": "Zk5lmijUPJ5m"
      }
    },
    {
      "cell_type": "markdown",
      "source": [
        "**BUSINESS UNDERSTANDING**"
      ],
      "metadata": {
        "id": "Ke3GlclZf6Pp"
      }
    },
    {
      "cell_type": "markdown",
      "source": [
        "**Business Objective**"
      ],
      "metadata": {
        "id": "0ZqP8KI2gBwt"
      }
    },
    {
      "cell_type": "markdown",
      "source": [
        "Tujuan utama dataset ini adalah memahami tren pelanggan dan pasar cokelat untuk meningkatkan kualitas produk cokelat yang sesuai dengan preferensi pelanggan. Selain itu, dengan menggunakan data dapat membuat strategi pemasaran yang efektif agar menciptakan produk yang sesuai dengan selera pasar untuk meningkatkan kepuasan pelanggan."
      ],
      "metadata": {
        "id": "0HI4GXhCNSsR"
      }
    },
    {
      "cell_type": "markdown",
      "source": [
        "**Assess Situation**"
      ],
      "metadata": {
        "id": "6tdOThnSV2Oj"
      }
    },
    {
      "cell_type": "markdown",
      "source": [
        "Dari analisis ini dapat dinilai bahwa rating produk memiliki potensi besar untuk memberikan informasi penting tentang preferensi pelanggan terhadap cokelat batangan. Namun, beberapa masalah perlu ditangani, seperti kualiatas kakao dan asal biji kakao. Oleh karena itu, memperbaiki kualitas produk sangat penting untuk meningkatkan kepuasan pelanggan dengan memilih produk yang diminati."
      ],
      "metadata": {
        "id": "FEsatxXQWBoy"
      }
    },
    {
      "cell_type": "markdown",
      "source": [
        "**Data Mining Goals**"
      ],
      "metadata": {
        "id": "yNr4BDwP0eKr"
      }
    },
    {
      "cell_type": "markdown",
      "source": [
        "Menganalisis tren pelanggan dan pasar cokelat untuk memperkirakan perubahan preferensi pelanggan dan mengidentifikasi produk dengan rating sangat tinggi atau sangat rendah untuk mengetahui produk yang sesuai dengan selera pasar."
      ],
      "metadata": {
        "id": "5ptm24965K6h"
      }
    },
    {
      "cell_type": "markdown",
      "source": [
        "**Project Plan**"
      ],
      "metadata": {
        "id": "uh0UtAl1-mmW"
      }
    },
    {
      "cell_type": "markdown",
      "source": [
        "Tahapan Project Plan:\n",
        "1. Menentukan tujuan\n",
        "2. Menerapkan timeline\n",
        "3. Memilih sumber daya\n",
        "4. Menentukan hasil\n",
        "6. Menganalisis resiko\n",
        "\n",
        "Dengan tujuan meningkatkan kualitas cokelat dan kepuasan pelanggan, project plan ini bertujuan untuk menganalisis data. Project plan diharapkan dapat memberikan insight yang bermanfaat dan diterapkan bagi pelanggan dengan mengikuti prosedur dan timeline yang diatur."
      ],
      "metadata": {
        "id": "2qvUL9aa-s12"
      }
    }
  ]
}